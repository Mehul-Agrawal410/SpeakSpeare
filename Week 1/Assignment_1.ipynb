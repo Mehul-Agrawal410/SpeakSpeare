{
  "cells": [
    {
      "cell_type": "markdown",
      "metadata": {
        "colab_type": "text",
        "id": "view-in-github"
      },
      "source": [
        "<a href=\"https://colab.research.google.com/github/deeksha-4/LS-Neural-Networks-NLP/blob/main/Week1/Week1_NumPy_Assignment.ipynb\" target=\"_parent\"><img src=\"https://colab.research.google.com/assets/colab-badge.svg\" alt=\"Open In Colab\"/></a>"
      ]
    },
    {
      "cell_type": "markdown",
      "metadata": {},
      "source": [
        "# **Python**"
      ]
    },
    {
      "cell_type": "code",
      "execution_count": null,
      "metadata": {},
      "outputs": [],
      "source": []
    },
    {
      "cell_type": "markdown",
      "metadata": {
        "id": "MbvsDuzLano5"
      },
      "source": [
        "# **NumPy**\n",
        "In this assignment, you will be familiarized with the usage of the NumPy library and how to use vectorization to speed up computations in comparision to iterative approaches.\n",
        "\n",
        "You are to only write/modify the code in between consecutive `# < START >` and `# < END >` comments. DO NOT modify other parts of the notebook, your assignments will not be graded otherwise.\n",
        "```python\n",
        "\"Don't modify any code here\"\n",
        "\n",
        "# < START >\n",
        "\"YOUR CODE GOES HERE!\"\n",
        "# < END >\n",
        "\n",
        "\"Don't modify any code here\"\n",
        "```\n",
        "\n",
        "<!---Need to include clarification about arrays?-->\n",
        "\n",
        "**Start by running the below cell, to import the NumPy library.**"
      ]
    },
    {
      "cell_type": "code",
      "execution_count": null,
      "metadata": {
        "id": "GHqaQIZwaqrb"
      },
      "outputs": [],
      "source": [
        "import numpy as np"
      ]
    },
    {
      "cell_type": "markdown",
      "metadata": {
        "id": "7_q9CV0oqiQE"
      },
      "source": [
        "### **Initializating Arrays**\n",
        "NumPy offers multiple methods to create and populate arrays\n",
        "- Create a $2\\times3$ array identical to\n",
        "$\\begin{bmatrix}\n",
        "1 & 2 & 4\\\\\n",
        "7 & 13 & 21\\\\\n",
        "\\end{bmatrix}$, and assign it to a variable `arr`.  "
      ]
    },
    {
      "cell_type": "code",
      "execution_count": null,
      "metadata": {
        "id": "DOSodBqMsPFx"
      },
      "outputs": [],
      "source": [
        "# < START >\n",
        "\n",
        "# < END >\n",
        "\n",
        "print(arr)\n",
        "print(\"Shape:\", arr.shape)"
      ]
    },
    {
      "cell_type": "markdown",
      "metadata": {
        "id": "ow7eYNN0uqOc"
      },
      "source": [
        "You should be able to see that the `shape` property of an array lets you access its dimensions.  \n",
        "For us, this is a handy way to ensure that the dimensions of an array are what we expect, allowing us to easily debug programs."
      ]
    },
    {
      "cell_type": "markdown",
      "metadata": {
        "id": "3sRFnmJrWY0S"
      },
      "source": [
        "- Initialize a NumPy array `x` of dimensions $2\\times3$ with random values.  \n",
        "Do not use the values of the dimensions directly, instead use the variables provided as arguments.\n",
        "<details>\n",
        "  <summary>Hint</summary>\n",
        "  <a href=\"https://numpy.org/doc/stable/reference/random/generated/numpy.random.randn.html#numpy-random-randn\">np.random.randn()</a>\n",
        "</details>"
      ]
    },
    {
      "cell_type": "code",
      "execution_count": null,
      "metadata": {
        "id": "VVrePkvxW2K9"
      },
      "outputs": [],
      "source": [
        "n_rows = 2\n",
        "n_columns = 3\n",
        "\n",
        "# <START>\n",
        "\n",
        "# <END>\n",
        "\n",
        "print(x)"
      ]
    },
    {
      "cell_type": "markdown",
      "metadata": {
        "id": "j7XlM8Bwchhm"
      },
      "source": [
        "A few more basic methods to initialize arrays exist.\n",
        "Feel free to read up online to complete the code snippets."
      ]
    },
    {
      "cell_type": "code",
      "execution_count": null,
      "metadata": {
        "id": "hG59Eh_edKNy"
      },
      "outputs": [],
      "source": [
        "# < START >\n",
        "# Initialize an array ZERO_ARR of dimensions (4, 5, 2) whose every element is 0\n",
        "\n",
        "# < END >\n",
        "\n",
        "print(ZERO_ARR)\n",
        "\n",
        "# < START >\n",
        "# Initialize an array ONE_ARR of dimensions (4, 5, 2) whose every element is 1\n",
        "\n",
        "# < END >\n",
        "\n",
        "print(ONE_ARR)"
      ]
    },
    {
      "cell_type": "markdown",
      "metadata": {
        "id": "19eX-3suIKcF"
      },
      "source": [
        "You can also transpose arrays (same as with matrices), but a more general and commonly used function is the `array.reshape()` function.\n",
        "\n",
        "$$\n",
        "\\begin{bmatrix}\n",
        "a & d\\\\\n",
        "b & e\\\\\n",
        "c & f\\\\\n",
        "\\end{bmatrix}\n",
        "\\xleftarrow{\\text{.T}}\n",
        "\\begin{bmatrix}\n",
        "a & b & c\\\\\n",
        "d & e & f\\\\\n",
        "\\end{bmatrix}\n",
        "\\xrightarrow{\\text{.reshape(3, 2)}}\n",
        "\\begin{bmatrix}\n",
        "a & b\\\\\n",
        "c & d\\\\\n",
        "e & f\\\\\n",
        "\\end{bmatrix}\n",
        "\\xrightarrow{\\text{.reshape(6,1)}}\n",
        "\\begin{bmatrix}\n",
        "a\\\\b\\\\c\\\\d\\\\e\\\\f\\\\\n",
        "\\end{bmatrix}\n",
        "$$\n",
        "`reshape` is commonly used to flatten data stored in multi-dimensional arrays (ex: a 2D array representing a B/W image)\n",
        "\n",
        "- Try it out yourself:"
      ]
    },
    {
      "cell_type": "code",
      "execution_count": null,
      "metadata": {
        "id": "72poNlj4H4dv"
      },
      "outputs": [],
      "source": [
        "y = np.array([[1, 2, 3],\n",
        "              [4, 5, 6]])\n",
        "\n",
        "# < START >\n",
        "# Create a new array y_transpose that is the transpose of matrix y\n",
        "\n",
        "# < END >\n",
        "\n",
        "print(y_transpose)\n",
        "\n",
        "# < START >\n",
        "# Create a new array y_flat that contains the same elements as y but has been flattened to a column array\n",
        "\n",
        "# < END >\n",
        "\n",
        "print(y_flat)"
      ]
    },
    {
      "cell_type": "markdown",
      "metadata": {
        "id": "OmHhW0gtXn4C"
      },
      "source": [
        "- Create a `y` with dimensions $3\\times1$ (column matrix), with elements $4,7$ and $11$.  \n",
        "$$y = \\begin{bmatrix}\n",
        "4\\\\\n",
        "7\\\\\n",
        "11\n",
        "\\end{bmatrix}$$  "
      ]
    },
    {
      "cell_type": "code",
      "execution_count": null,
      "metadata": {
        "id": "_OB_fi7zW57S"
      },
      "outputs": [],
      "source": [
        "# <START>\n",
        "# Initialize the column matrix here\n",
        "\n",
        "# <END>\n",
        "\n",
        "assert y.shape == (3, 1)\n",
        "# The above line is an assert statement, which halts the program if the given condition evaluates to False.\n",
        "# Assert statements are frequently used in neural network programs to ensure our matrices are of the right dimensions.\n",
        "\n",
        "print(y)\n",
        "\n",
        "# <START>\n",
        "# Multiply both the arrays here\n",
        "\n",
        "# <END>\n",
        "\n",
        "assert z.shape == (2, 1)\n",
        "\n",
        "print(z)"
      ]
    },
    {
      "cell_type": "markdown",
      "metadata": {
        "id": "qQBkm2K9eMiu"
      },
      "source": [
        "### **Indexing & Slicing**\n",
        "Just like with normal arrays, you can access an element at the `(i,j)` position using `array[i][j]`.  \n",
        "However, NumPy allows you to do the same using `array[i, j]`, and this form is more efficient and simpler to use.\n",
        "<details>\n",
        "<summary><i>(Optional) Why is it more efficient?</i></summary>\n",
        "The former case is more inefficient as a new temporary array is created after the first index i, that is then indexed by j.\n",
        "</details>\n",
        "\n",
        "```python\n",
        "x = np.array([[1,3,5],[4,7,11],[5,10,20]])\n",
        "\n",
        "x[1][2] #11\n",
        "x[1,2]  #11 <-- Prefer this\n",
        "```"
      ]
    },
    {
      "cell_type": "markdown",
      "metadata": {
        "id": "ptZtfq3dUE25"
      },
      "source": [
        "Slicing is another important feature of NumPy arrays. The syntax is the same as that of slicing in Python lists.\n",
        "  We pass the slice as\n",
        "\n",
        "```python\n",
        "  sliced_array = array[start:end:step]\n",
        "  # The second colon (:) is only needed\n",
        "  # if you want to use a step other than 1\n",
        "```\n",
        "By default, `start` is 0, `end` is the array length (in that dimension), and `step` is 1.\n",
        "Remember that `end` is not included in the slice.\n",
        "\n",
        "  Implement array slicing as instructed in the following examples\n",
        "\n"
      ]
    },
    {
      "cell_type": "code",
      "execution_count": null,
      "metadata": {
        "id": "Rb3_CEkYVHRV"
      },
      "outputs": [],
      "source": [
        "x = np.array([4, 1, 5, 6, 11])\n",
        "\n",
        "# <START>\n",
        "# Create a new array y with the middle 3 elements of x\n",
        "\n",
        "# <END>\n",
        "\n",
        "print(y)\n",
        "\n",
        "z = np.array([1, 2, 3, 4, 5, 6, 7, 8, 9, 10])\n",
        "\n",
        "# <START>\n",
        "# Create a new array w with alternating elements of z\n",
        "\n",
        "# <END>\n",
        "\n",
        "print(w)"
      ]
    },
    {
      "cell_type": "markdown",
      "metadata": {
        "id": "MeHuSp4YHjpT"
      },
      "source": [
        "A combination of indexing and slicing can be used to access rows, columns and sub-arrays of 2D arrays.\n",
        "\n",
        "```python\n",
        "arr = np.array([\n",
        "          [1, 2, 3],\n",
        "          [4, 5, 6],\n",
        "          [7, 8, 9]])\n",
        "\n",
        "print(arr[0])       #[1 2 3]\n",
        "print(arr[:,2])     #[3 6 9]\n",
        "print(arr[0:2,0:2]) #[[1 2]\n",
        "                    # [4 5]]\n",
        "```"
      ]
    },
    {
      "cell_type": "code",
      "execution_count": null,
      "metadata": {
        "id": "mvrmhMiUHjMm"
      },
      "outputs": [],
      "source": [
        "arr_2d = np.array([[4, 5, 2],\n",
        "          [3, 7, 9],\n",
        "          [1, 4, 5],\n",
        "          [6, 6, 1]])\n",
        "\n",
        "# <START>\n",
        "# Create a 2D array sliced_arr_2d that is of the form [[5, 2], [7, 9], [4, 5]]\n",
        "\n",
        "# <END>\n",
        "\n",
        "print(sliced_arr_2d)"
      ]
    },
    {
      "cell_type": "markdown",
      "metadata": {
        "id": "3wusjBpUZ4YM"
      },
      "source": [
        "### **Broadcasting**\n",
        "\n",
        "This feature allows for flexibility in array operations. It lets us implement highly efficient algorithms with minimal use of memory."
      ]
    },
    {
      "cell_type": "code",
      "execution_count": null,
      "metadata": {
        "id": "JMYM8LIYbKdV"
      },
      "outputs": [],
      "source": [
        "arr1 = np.array([1, 2, 3, 4])\n",
        "b = 1\n",
        "\n",
        "# <START>\n",
        "# Implement broadcasting to add b to each element of arr1\n",
        "\n",
        "# <END>\n",
        "\n",
        "print(arr1)\n",
        "\n",
        "arr2 = np.array([[1, 2, 3],\n",
        "                 [4, 5, 6]])\n",
        "arr3 = np.array([[4],\n",
        "                 [5]])\n",
        "\n",
        "# <START>\n",
        "# Multiply each element of the first row of arr2 by 4 and each element of the second row by 5, using only arr2 and arr3\n",
        "\n",
        "# <END>\n",
        "\n",
        "print(arr2)"
      ]
    },
    {
      "cell_type": "markdown",
      "metadata": {
        "id": "ZKz_znd7WfhP"
      },
      "source": [
        "### **Vectorization**\n",
        "\n",
        "From what we've covered so far, it might not be clear as to why we need to use vectorization. To understand this, let's compare the execution times of a non-vectorized program and a vectorized one.\n",
        "\n",
        "Your goal is to multiply each element of the 2D arrays by 3. Implement this using both non-vectorized and vectorized approaches."
      ]
    },
    {
      "cell_type": "code",
      "execution_count": null,
      "metadata": {
        "id": "RheVdAh4WyA1"
      },
      "outputs": [],
      "source": [
        "import time\n",
        "\n",
        "arr_nonvectorized = np.random.rand(1000, 1000)\n",
        "arr_vectorized = np.array(arr_nonvectorized) # making a deep copy of the array\n",
        "\n",
        "start_nv = time.time()\n",
        "\n",
        "# Non-vectorized approach\n",
        "# <START>\n",
        "\n",
        "\n",
        "\n",
        "# <END>\n",
        "\n",
        "end_nv = time.time()\n",
        "print(\"Time taken in non-vectorized approach:\", 1000*(end_nv-start_nv), \"ms\")\n",
        "\n",
        "# uncomment and execute the below line to convince yourself that both approaches are doing the same thing\n",
        "# print(arr_nonvectorized)\n",
        "\n",
        "start_v = time.time()\n",
        "\n",
        "# Vectorized approach\n",
        "# <START>\n",
        "\n",
        "# <END>\n",
        "\n",
        "end_v = time.time()\n",
        "print(\"Time taken in vectorized approach:\", 1000*(end_v-start_v), \"ms\")\n",
        "\n",
        "# uncomment and execute the below line to convince yourself that both approaches are doing the same thing\n",
        "# print(arr_vectorized)"
      ]
    },
    {
      "cell_type": "markdown",
      "metadata": {
        "id": "W2FkvxAsbyzc"
      },
      "source": [
        "Try playing around with the dimensions of the array. You'll find that there isn't much difference in the execution times when the dimensions are small. But in neural networks, we often deal with very large datasets and so vectorization is a very important tool."
      ]
    },
    {
      "cell_type": "markdown",
      "metadata": {},
      "source": [
        "# **Pandas**"
      ]
    },
    {
      "cell_type": "markdown",
      "metadata": {},
      "source": [
        "This section will help you get familia with various functions of pandas and how to use them.\n",
        "\n",
        "As you go through this section, you will find a ??? in certain places. To complete this section, you must replace all the ??? with appropriate values, expressions or statements to ensure that the notebook runs properly end-to-end"
      ]
    },
    {
      "cell_type": "markdown",
      "metadata": {},
      "source": [
        "\n",
        "Let's start by importing the pandas library"
      ]
    },
    {
      "cell_type": "code",
      "execution_count": null,
      "metadata": {},
      "outputs": [],
      "source": [
        "import pandas as pd"
      ]
    },
    {
      "cell_type": "markdown",
      "metadata": {},
      "source": [
        "### **Loading data using url**"
      ]
    },
    {
      "cell_type": "code",
      "execution_count": 6,
      "metadata": {},
      "outputs": [
        {
          "data": {
            "text/html": [
              "<div>\n",
              "<style scoped>\n",
              "    .dataframe tbody tr th:only-of-type {\n",
              "        vertical-align: middle;\n",
              "    }\n",
              "\n",
              "    .dataframe tbody tr th {\n",
              "        vertical-align: top;\n",
              "    }\n",
              "\n",
              "    .dataframe thead th {\n",
              "        text-align: right;\n",
              "    }\n",
              "</style>\n",
              "<table border=\"1\" class=\"dataframe\">\n",
              "  <thead>\n",
              "    <tr style=\"text-align: right;\">\n",
              "      <th></th>\n",
              "      <th>Country</th>\n",
              "      <th>Region</th>\n",
              "      <th>Population</th>\n",
              "      <th>Area (sq. mi.)</th>\n",
              "      <th>Pop. Density (per sq. mi.)</th>\n",
              "      <th>Coastline (coast/area ratio)</th>\n",
              "      <th>Net migration</th>\n",
              "      <th>Infant mortality (per 1000 births)</th>\n",
              "      <th>GDP ($ per capita)</th>\n",
              "      <th>Literacy (%)</th>\n",
              "      <th>Phones (per 1000)</th>\n",
              "      <th>Arable (%)</th>\n",
              "      <th>Crops (%)</th>\n",
              "      <th>Other (%)</th>\n",
              "      <th>Climate</th>\n",
              "      <th>Birthrate</th>\n",
              "      <th>Deathrate</th>\n",
              "      <th>Agriculture</th>\n",
              "      <th>Industry</th>\n",
              "      <th>Service</th>\n",
              "    </tr>\n",
              "  </thead>\n",
              "  <tbody>\n",
              "    <tr>\n",
              "      <th>0</th>\n",
              "      <td>Afghanistan</td>\n",
              "      <td>ASIA (EX. NEAR EAST)</td>\n",
              "      <td>31056997</td>\n",
              "      <td>647500</td>\n",
              "      <td>48.0</td>\n",
              "      <td>0.00</td>\n",
              "      <td>23.06</td>\n",
              "      <td>163.07</td>\n",
              "      <td>700.0</td>\n",
              "      <td>36.0</td>\n",
              "      <td>3.2</td>\n",
              "      <td>12.13</td>\n",
              "      <td>0.22</td>\n",
              "      <td>87.65</td>\n",
              "      <td>1.0</td>\n",
              "      <td>46.60</td>\n",
              "      <td>20.34</td>\n",
              "      <td>0.380</td>\n",
              "      <td>0.240</td>\n",
              "      <td>0.380</td>\n",
              "    </tr>\n",
              "    <tr>\n",
              "      <th>1</th>\n",
              "      <td>Albania</td>\n",
              "      <td>EASTERN EUROPE</td>\n",
              "      <td>3581655</td>\n",
              "      <td>28748</td>\n",
              "      <td>124.6</td>\n",
              "      <td>1.26</td>\n",
              "      <td>-4.93</td>\n",
              "      <td>21.52</td>\n",
              "      <td>4500.0</td>\n",
              "      <td>86.5</td>\n",
              "      <td>71.2</td>\n",
              "      <td>21.09</td>\n",
              "      <td>4.42</td>\n",
              "      <td>74.49</td>\n",
              "      <td>3.0</td>\n",
              "      <td>15.11</td>\n",
              "      <td>5.22</td>\n",
              "      <td>0.232</td>\n",
              "      <td>0.188</td>\n",
              "      <td>0.579</td>\n",
              "    </tr>\n",
              "    <tr>\n",
              "      <th>2</th>\n",
              "      <td>Algeria</td>\n",
              "      <td>NORTHERN AFRICA</td>\n",
              "      <td>32930091</td>\n",
              "      <td>2381740</td>\n",
              "      <td>13.8</td>\n",
              "      <td>0.04</td>\n",
              "      <td>-0.39</td>\n",
              "      <td>31.00</td>\n",
              "      <td>6000.0</td>\n",
              "      <td>70.0</td>\n",
              "      <td>78.1</td>\n",
              "      <td>3.22</td>\n",
              "      <td>0.25</td>\n",
              "      <td>96.53</td>\n",
              "      <td>1.0</td>\n",
              "      <td>17.14</td>\n",
              "      <td>4.61</td>\n",
              "      <td>0.101</td>\n",
              "      <td>0.600</td>\n",
              "      <td>0.298</td>\n",
              "    </tr>\n",
              "    <tr>\n",
              "      <th>3</th>\n",
              "      <td>American Samoa</td>\n",
              "      <td>OCEANIA</td>\n",
              "      <td>57794</td>\n",
              "      <td>199</td>\n",
              "      <td>290.4</td>\n",
              "      <td>58.29</td>\n",
              "      <td>-20.71</td>\n",
              "      <td>9.27</td>\n",
              "      <td>8000.0</td>\n",
              "      <td>97.0</td>\n",
              "      <td>259.5</td>\n",
              "      <td>10.00</td>\n",
              "      <td>15.00</td>\n",
              "      <td>75.00</td>\n",
              "      <td>2.0</td>\n",
              "      <td>22.46</td>\n",
              "      <td>3.27</td>\n",
              "      <td>NaN</td>\n",
              "      <td>NaN</td>\n",
              "      <td>NaN</td>\n",
              "    </tr>\n",
              "    <tr>\n",
              "      <th>4</th>\n",
              "      <td>Andorra</td>\n",
              "      <td>WESTERN EUROPE</td>\n",
              "      <td>71201</td>\n",
              "      <td>468</td>\n",
              "      <td>152.1</td>\n",
              "      <td>0.00</td>\n",
              "      <td>6.60</td>\n",
              "      <td>4.05</td>\n",
              "      <td>19000.0</td>\n",
              "      <td>100.0</td>\n",
              "      <td>497.2</td>\n",
              "      <td>2.22</td>\n",
              "      <td>0.00</td>\n",
              "      <td>97.78</td>\n",
              "      <td>3.0</td>\n",
              "      <td>8.71</td>\n",
              "      <td>6.25</td>\n",
              "      <td>NaN</td>\n",
              "      <td>NaN</td>\n",
              "      <td>NaN</td>\n",
              "    </tr>\n",
              "    <tr>\n",
              "      <th>...</th>\n",
              "      <td>...</td>\n",
              "      <td>...</td>\n",
              "      <td>...</td>\n",
              "      <td>...</td>\n",
              "      <td>...</td>\n",
              "      <td>...</td>\n",
              "      <td>...</td>\n",
              "      <td>...</td>\n",
              "      <td>...</td>\n",
              "      <td>...</td>\n",
              "      <td>...</td>\n",
              "      <td>...</td>\n",
              "      <td>...</td>\n",
              "      <td>...</td>\n",
              "      <td>...</td>\n",
              "      <td>...</td>\n",
              "      <td>...</td>\n",
              "      <td>...</td>\n",
              "      <td>...</td>\n",
              "      <td>...</td>\n",
              "    </tr>\n",
              "    <tr>\n",
              "      <th>222</th>\n",
              "      <td>West Bank</td>\n",
              "      <td>NEAR EAST</td>\n",
              "      <td>2460492</td>\n",
              "      <td>5860</td>\n",
              "      <td>419.9</td>\n",
              "      <td>0.00</td>\n",
              "      <td>2.98</td>\n",
              "      <td>19.62</td>\n",
              "      <td>800.0</td>\n",
              "      <td>NaN</td>\n",
              "      <td>145.2</td>\n",
              "      <td>16.90</td>\n",
              "      <td>18.97</td>\n",
              "      <td>64.13</td>\n",
              "      <td>3.0</td>\n",
              "      <td>31.67</td>\n",
              "      <td>3.92</td>\n",
              "      <td>0.090</td>\n",
              "      <td>0.280</td>\n",
              "      <td>0.630</td>\n",
              "    </tr>\n",
              "    <tr>\n",
              "      <th>223</th>\n",
              "      <td>Western Sahara</td>\n",
              "      <td>NORTHERN AFRICA</td>\n",
              "      <td>273008</td>\n",
              "      <td>266000</td>\n",
              "      <td>1.0</td>\n",
              "      <td>0.42</td>\n",
              "      <td>NaN</td>\n",
              "      <td>NaN</td>\n",
              "      <td>NaN</td>\n",
              "      <td>NaN</td>\n",
              "      <td>NaN</td>\n",
              "      <td>0.02</td>\n",
              "      <td>0.00</td>\n",
              "      <td>99.98</td>\n",
              "      <td>1.0</td>\n",
              "      <td>NaN</td>\n",
              "      <td>NaN</td>\n",
              "      <td>NaN</td>\n",
              "      <td>NaN</td>\n",
              "      <td>0.400</td>\n",
              "    </tr>\n",
              "    <tr>\n",
              "      <th>224</th>\n",
              "      <td>Yemen</td>\n",
              "      <td>NEAR EAST</td>\n",
              "      <td>21456188</td>\n",
              "      <td>527970</td>\n",
              "      <td>40.6</td>\n",
              "      <td>0.36</td>\n",
              "      <td>0.00</td>\n",
              "      <td>61.50</td>\n",
              "      <td>800.0</td>\n",
              "      <td>50.2</td>\n",
              "      <td>37.2</td>\n",
              "      <td>2.78</td>\n",
              "      <td>0.24</td>\n",
              "      <td>96.98</td>\n",
              "      <td>1.0</td>\n",
              "      <td>42.89</td>\n",
              "      <td>8.30</td>\n",
              "      <td>0.135</td>\n",
              "      <td>0.472</td>\n",
              "      <td>0.393</td>\n",
              "    </tr>\n",
              "    <tr>\n",
              "      <th>225</th>\n",
              "      <td>Zambia</td>\n",
              "      <td>SUB-SAHARAN AFRICA</td>\n",
              "      <td>11502010</td>\n",
              "      <td>752614</td>\n",
              "      <td>15.3</td>\n",
              "      <td>0.00</td>\n",
              "      <td>0.00</td>\n",
              "      <td>88.29</td>\n",
              "      <td>800.0</td>\n",
              "      <td>80.6</td>\n",
              "      <td>8.2</td>\n",
              "      <td>7.08</td>\n",
              "      <td>0.03</td>\n",
              "      <td>92.90</td>\n",
              "      <td>2.0</td>\n",
              "      <td>41.00</td>\n",
              "      <td>19.93</td>\n",
              "      <td>0.220</td>\n",
              "      <td>0.290</td>\n",
              "      <td>0.489</td>\n",
              "    </tr>\n",
              "    <tr>\n",
              "      <th>226</th>\n",
              "      <td>Zimbabwe</td>\n",
              "      <td>SUB-SAHARAN AFRICA</td>\n",
              "      <td>12236805</td>\n",
              "      <td>390580</td>\n",
              "      <td>31.3</td>\n",
              "      <td>0.00</td>\n",
              "      <td>0.00</td>\n",
              "      <td>67.69</td>\n",
              "      <td>1900.0</td>\n",
              "      <td>90.7</td>\n",
              "      <td>26.8</td>\n",
              "      <td>8.32</td>\n",
              "      <td>0.34</td>\n",
              "      <td>91.34</td>\n",
              "      <td>2.0</td>\n",
              "      <td>28.01</td>\n",
              "      <td>21.84</td>\n",
              "      <td>0.179</td>\n",
              "      <td>0.243</td>\n",
              "      <td>0.579</td>\n",
              "    </tr>\n",
              "  </tbody>\n",
              "</table>\n",
              "<p>227 rows × 20 columns</p>\n",
              "</div>"
            ],
            "text/plain": [
              "             Country                               Region  Population  \\\n",
              "0       Afghanistan         ASIA (EX. NEAR EAST)             31056997   \n",
              "1           Albania   EASTERN EUROPE                          3581655   \n",
              "2           Algeria   NORTHERN AFRICA                        32930091   \n",
              "3    American Samoa   OCEANIA                                   57794   \n",
              "4           Andorra   WESTERN EUROPE                            71201   \n",
              "..               ...                                  ...         ...   \n",
              "222       West Bank   NEAR EAST                               2460492   \n",
              "223  Western Sahara   NORTHERN AFRICA                          273008   \n",
              "224           Yemen   NEAR EAST                              21456188   \n",
              "225          Zambia   SUB-SAHARAN AFRICA                     11502010   \n",
              "226        Zimbabwe   SUB-SAHARAN AFRICA                     12236805   \n",
              "\n",
              "     Area (sq. mi.)  Pop. Density (per sq. mi.)  Coastline (coast/area ratio)  \\\n",
              "0            647500                        48.0                          0.00   \n",
              "1             28748                       124.6                          1.26   \n",
              "2           2381740                        13.8                          0.04   \n",
              "3               199                       290.4                         58.29   \n",
              "4               468                       152.1                          0.00   \n",
              "..              ...                         ...                           ...   \n",
              "222            5860                       419.9                          0.00   \n",
              "223          266000                         1.0                          0.42   \n",
              "224          527970                        40.6                          0.36   \n",
              "225          752614                        15.3                          0.00   \n",
              "226          390580                        31.3                          0.00   \n",
              "\n",
              "     Net migration  Infant mortality (per 1000 births)  GDP ($ per capita)  \\\n",
              "0            23.06                              163.07               700.0   \n",
              "1            -4.93                               21.52              4500.0   \n",
              "2            -0.39                               31.00              6000.0   \n",
              "3           -20.71                                9.27              8000.0   \n",
              "4             6.60                                4.05             19000.0   \n",
              "..             ...                                 ...                 ...   \n",
              "222           2.98                               19.62               800.0   \n",
              "223            NaN                                 NaN                 NaN   \n",
              "224           0.00                               61.50               800.0   \n",
              "225           0.00                               88.29               800.0   \n",
              "226           0.00                               67.69              1900.0   \n",
              "\n",
              "     Literacy (%)  Phones (per 1000)  Arable (%)  Crops (%)  Other (%)  \\\n",
              "0            36.0                3.2       12.13       0.22      87.65   \n",
              "1            86.5               71.2       21.09       4.42      74.49   \n",
              "2            70.0               78.1        3.22       0.25      96.53   \n",
              "3            97.0              259.5       10.00      15.00      75.00   \n",
              "4           100.0              497.2        2.22       0.00      97.78   \n",
              "..            ...                ...         ...        ...        ...   \n",
              "222           NaN              145.2       16.90      18.97      64.13   \n",
              "223           NaN                NaN        0.02       0.00      99.98   \n",
              "224          50.2               37.2        2.78       0.24      96.98   \n",
              "225          80.6                8.2        7.08       0.03      92.90   \n",
              "226          90.7               26.8        8.32       0.34      91.34   \n",
              "\n",
              "     Climate  Birthrate  Deathrate  Agriculture  Industry  Service  \n",
              "0        1.0      46.60      20.34        0.380     0.240    0.380  \n",
              "1        3.0      15.11       5.22        0.232     0.188    0.579  \n",
              "2        1.0      17.14       4.61        0.101     0.600    0.298  \n",
              "3        2.0      22.46       3.27          NaN       NaN      NaN  \n",
              "4        3.0       8.71       6.25          NaN       NaN      NaN  \n",
              "..       ...        ...        ...          ...       ...      ...  \n",
              "222      3.0      31.67       3.92        0.090     0.280    0.630  \n",
              "223      1.0        NaN        NaN          NaN       NaN    0.400  \n",
              "224      1.0      42.89       8.30        0.135     0.472    0.393  \n",
              "225      2.0      41.00      19.93        0.220     0.290    0.489  \n",
              "226      2.0      28.01      21.84        0.179     0.243    0.579  \n",
              "\n",
              "[227 rows x 20 columns]"
            ]
          },
          "execution_count": 6,
          "metadata": {},
          "output_type": "execute_result"
        }
      ],
      "source": [
        "url = \"https://raw.githubusercontent.com/Mehul-Agrawal410/SpeakSpeare/main/Week%201/countries.csv\"\n",
        "\n",
        "df = pd.read_csv(url, decimal=',')\n",
        "df"
      ]
    },
    {
      "cell_type": "markdown",
      "metadata": {},
      "source": [
        "*(Optional)*: You can rename the columns for your convenience later on. Look up the syntax for renaming columns"
      ]
    },
    {
      "cell_type": "code",
      "execution_count": null,
      "metadata": {},
      "outputs": [],
      "source": []
    },
    {
      "cell_type": "markdown",
      "metadata": {},
      "source": [
        "**Q1: How many countries does the dataframe contain?**\n",
        "\n",
        "Hint: Use the `.shape` method."
      ]
    },
    {
      "cell_type": "code",
      "execution_count": null,
      "metadata": {},
      "outputs": [],
      "source": [
        "num_countries = ???\n",
        "print(f'There are {num_countries} countries in the dataset')"
      ]
    },
    {
      "cell_type": "markdown",
      "metadata": {},
      "source": [
        "**Q2: Retrieve a list of the Regions from the dataframe?**\n",
        "\n",
        "*Hint: Use the `.unique` method of a series.*"
      ]
    },
    {
      "cell_type": "code",
      "execution_count": null,
      "metadata": {},
      "outputs": [],
      "source": [
        "continents = ???\n",
        "continents"
      ]
    },
    {
      "cell_type": "markdown",
      "metadata": {},
      "source": [
        "**Q3: What is the total population of all the countries listed in this dataset?**"
      ]
    },
    {
      "cell_type": "code",
      "execution_count": null,
      "metadata": {},
      "outputs": [],
      "source": [
        "total_population = ???\n",
        "print(f'The total population is {total_population}.')"
      ]
    },
    {
      "cell_type": "markdown",
      "metadata": {},
      "source": [
        "**Q4: Create a dataframe containing 10 countries with the highest population.**\n",
        "\n",
        "*Hint: Chain the `sort_values` and `head` methods.*"
      ]
    },
    {
      "cell_type": "code",
      "execution_count": null,
      "metadata": {},
      "outputs": [],
      "source": [
        "most_populous_df = ???\n",
        "most_populous_df"
      ]
    },
    {
      "cell_type": "markdown",
      "metadata": {},
      "source": [
        "**Q5: Add a new column in `countries_df` to record the overall GDP per country (product of population & per capita GDP).**"
      ]
    },
    {
      "cell_type": "code",
      "execution_count": null,
      "metadata": {},
      "outputs": [],
      "source": [
        "df['gdp'] = ???\n",
        "df"
      ]
    },
    {
      "cell_type": "markdown",
      "metadata": {},
      "source": [
        "**Q6: Create a data frame that counts the number countries in each region?**\n",
        "\n",
        "*Hint: Use `groupby`, select the `location` column and aggregate using `count`.*"
      ]
    },
    {
      "cell_type": "code",
      "execution_count": null,
      "metadata": {},
      "outputs": [],
      "source": [
        "country_counts_df = ???\n",
        "country_counts_df"
      ]
    },
    {
      "cell_type": "markdown",
      "metadata": {},
      "source": [
        "**Q7: Create a data frame showing the total population of each region.**\n",
        "\n",
        "*Hint: Use `groupby`, select the population column and aggregate using `sum`.*"
      ]
    },
    {
      "cell_type": "code",
      "execution_count": null,
      "metadata": {},
      "outputs": [],
      "source": [
        "region_populations_df = ???\n",
        "region_populations_df"
      ]
    },
    {
      "cell_type": "markdown",
      "metadata": {},
      "source": [
        "**Q8: Count the number of null values in each column**\n",
        "\n",
        "*Hint: Use `isna`.*"
      ]
    },
    {
      "cell_type": "code",
      "execution_count": 10,
      "metadata": {},
      "outputs": [
        {
          "data": {
            "text/plain": [
              "Country                                0\n",
              "Region                                 0\n",
              "Population                             0\n",
              "Area (sq. mi.)                         0\n",
              "Pop. Density (per sq. mi.)             0\n",
              "Coastline (coast/area ratio)           0\n",
              "Net migration                          3\n",
              "Infant mortality (per 1000 births)     3\n",
              "GDP ($ per capita)                     1\n",
              "Literacy (%)                          18\n",
              "Phones (per 1000)                      4\n",
              "Arable (%)                             2\n",
              "Crops (%)                              2\n",
              "Other (%)                              2\n",
              "Climate                               22\n",
              "Birthrate                              3\n",
              "Deathrate                              4\n",
              "Agriculture                           15\n",
              "Industry                              16\n",
              "Service                               15\n",
              "dtype: int64"
            ]
          },
          "execution_count": 10,
          "metadata": {},
          "output_type": "execute_result"
        }
      ],
      "source": [
        "na_values = df.isna().sum()\n",
        "na_values"
      ]
    },
    {
      "cell_type": "markdown",
      "metadata": {},
      "source": [
        "**Q9: Fill all the null values with the mean of their respective coluumn**\n",
        "\n",
        "*Hint: Use `mean` and `fillna`.*"
      ]
    },
    {
      "cell_type": "code",
      "execution_count": null,
      "metadata": {},
      "outputs": [],
      "source": [
        "# <START>\n",
        "\n",
        "# <END>"
      ]
    },
    {
      "cell_type": "markdown",
      "metadata": {},
      "source": [
        "**Q10: Create a dataframe containing 10 countries with the lowest GDP per capita, among the counties with population greater than 100 million.**"
      ]
    },
    {
      "cell_type": "code",
      "execution_count": null,
      "metadata": {},
      "outputs": [],
      "source": [
        "# <START>\n",
        "\n",
        "# <END>"
      ]
    },
    {
      "cell_type": "markdown",
      "metadata": {},
      "source": [
        "# **Matplotlib**\n"
      ]
    },
    {
      "cell_type": "code",
      "execution_count": null,
      "metadata": {},
      "outputs": [],
      "source": []
    }
  ],
  "metadata": {
    "colab": {
      "include_colab_link": true,
      "provenance": []
    },
    "kernelspec": {
      "display_name": "Python 3",
      "name": "python3"
    },
    "language_info": {
      "codemirror_mode": {
        "name": "ipython",
        "version": 3
      },
      "file_extension": ".py",
      "mimetype": "text/x-python",
      "name": "python",
      "nbconvert_exporter": "python",
      "pygments_lexer": "ipython3",
      "version": "3.10.1"
    }
  },
  "nbformat": 4,
  "nbformat_minor": 0
}
